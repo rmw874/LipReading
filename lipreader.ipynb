{
 "cells": [
  {
   "cell_type": "markdown",
   "metadata": {},
   "source": []
  },
  {
   "cell_type": "code",
   "execution_count": 44,
   "metadata": {},
   "outputs": [],
   "source": [
    "import cv2\n",
    "import os\n",
    "import tensorflow as tf\n",
    "import numpy as np\n",
    "import imageio\n",
    "import gdown\n",
    "import dlib\n",
    "from typing import List\n",
    "from matplotlib import pyplot as plt"
   ]
  },
  {
   "cell_type": "code",
   "execution_count": 45,
   "metadata": {},
   "outputs": [],
   "source": [
    "physical_devices = tf.config.list_physical_devices('GPU')\n",
    "try:\n",
    "    tf.config.experimental.set_memory_growth(physical_devices[0], True)\n",
    "except:\n",
    "    pass"
   ]
  },
  {
   "cell_type": "markdown",
   "metadata": {},
   "source": [
    "Using some of the same ideas as presented in the paper, we process a video with the dlib face detection and tracking.\n",
    "With the mouth-centered image landmark, "
   ]
  },
  {
   "cell_type": "code",
   "execution_count": 46,
   "metadata": {},
   "outputs": [],
   "source": [
    "#Preprocessing: All videos are 3 seconds long with a frame rate of 25fps. \n",
    "#The videos were processed with the DLib face detector, and the iBug face landmark predictor (Sagonas et al., 2013) with 68 landmarks coupled with an online Kalman Filter. \n",
    "#Using these landmarks, we apply an affine transformation to extract a mouth-centred crop of size 100 × 50 pixels per frame. \n",
    "#We standardise the RGB channels over the whole training set to have zero mean and unit variance.\n",
    "def preprocess_video(path: str) -> List[float]:\n",
    "    cap = cv2.VideoCapture(path)\n",
    "    frames = []\n",
    "    while True:\n",
    "        ret, frame = cap.read()\n",
    "        if not ret:\n",
    "            break\n",
    "        # Convert the frame to grayscale \n",
    "        frame = cv2.cvtColor(frame, cv2.COLOR_BGR2GRAY)\n",
    "        # Detect faces in the frame\n",
    "        faces = hog_face_detector(frame)\n",
    "        # If no face is detected, move to the next frame\n",
    "        if len(faces) == 0:\n",
    "            continue\n",
    "        # Get the first face\n",
    "        face = faces[0]\n",
    "        # Get the landmarks\n",
    "        landmarks = dlib_facelandmark(frame, face)\n",
    "        mouth = landmarks.parts()[48:68]\n",
    "        mouth = np.array([[point.x, point.y] for point in mouth])\n",
    "        mouth = mouth.astype(np.float32)\n",
    "        mouth = mouth.reshape(-1)\n",
    "        # crop the mouth from the frame\n",
    "        frame = frame[mouth[1]:mouth[7], mouth[0]:mouth[6]]\n",
    "        # Resize the frame\n",
    "        frame = cv2.resize(frame, (100, 50))\n",
    "\n",
    "        frames.append(mouth)\n",
    "    cap.release()\n",
    "\n",
    "    # Standardize\n",
    "    mean = frames - frames.mean()\n",
    "    std = frames.std()\n",
    "    frames = (frames - mean) / std\n",
    "    return frames"
   ]
  },
  {
   "cell_type": "code",
   "execution_count": 47,
   "metadata": {},
   "outputs": [],
   "source": [
    "vocab = [l for l in \"abcdefghijklmnopqrstuvwxyz'!?1234567890 \"] # 39 characters"
   ]
  },
  {
   "cell_type": "code",
   "execution_count": 48,
   "metadata": {},
   "outputs": [
    {
     "ename": "error",
     "evalue": "OpenCV(4.9.0) /Users/xperience/GHA-OpenCV-Python2/_work/opencv-python/opencv-python/opencv/modules/imgproc/src/shapedescr.cpp:874: error: (-215:Assertion failed) npoints >= 0 && (depth == CV_32F || depth == CV_32S) in function 'pointSetBoundingRect'\n",
     "output_type": "error",
     "traceback": [
      "\u001b[0;31m---------------------------------------------------------------------------\u001b[0m",
      "\u001b[0;31merror\u001b[0m                                     Traceback (most recent call last)",
      "Cell \u001b[0;32mIn[48], line 1\u001b[0m\n\u001b[0;32m----> 1\u001b[0m \u001b[43mpreprocess_video\u001b[49m\u001b[43m(\u001b[49m\u001b[38;5;124;43m'\u001b[39;49m\u001b[38;5;124;43mdata/s1/bbaf2n.mpg\u001b[39;49m\u001b[38;5;124;43m'\u001b[39;49m\u001b[43m)\u001b[49m\n",
      "Cell \u001b[0;32mIn[46], line 28\u001b[0m, in \u001b[0;36mpreprocess_video\u001b[0;34m(path)\u001b[0m\n\u001b[1;32m     26\u001b[0m mouth \u001b[38;5;241m=\u001b[39m mouth\u001b[38;5;241m.\u001b[39mreshape(\u001b[38;5;241m-\u001b[39m\u001b[38;5;241m1\u001b[39m)\n\u001b[1;32m     27\u001b[0m \u001b[38;5;66;03m# crop\u001b[39;00m\n\u001b[0;32m---> 28\u001b[0m x, y, w, h \u001b[38;5;241m=\u001b[39m \u001b[43mcv2\u001b[49m\u001b[38;5;241;43m.\u001b[39;49m\u001b[43mboundingRect\u001b[49m\u001b[43m(\u001b[49m\u001b[43mmouth\u001b[49m\u001b[43m)\u001b[49m\n\u001b[1;32m     29\u001b[0m mouth \u001b[38;5;241m=\u001b[39m frame[y:y\u001b[38;5;241m+\u001b[39mh, x:x\u001b[38;5;241m+\u001b[39mw]\n\u001b[1;32m     30\u001b[0m mouth \u001b[38;5;241m=\u001b[39m cv2\u001b[38;5;241m.\u001b[39mresize(mouth, (\u001b[38;5;241m100\u001b[39m, \u001b[38;5;241m50\u001b[39m))\n",
      "\u001b[0;31merror\u001b[0m: OpenCV(4.9.0) /Users/xperience/GHA-OpenCV-Python2/_work/opencv-python/opencv-python/opencv/modules/imgproc/src/shapedescr.cpp:874: error: (-215:Assertion failed) npoints >= 0 && (depth == CV_32F || depth == CV_32S) in function 'pointSetBoundingRect'\n"
     ]
    }
   ],
   "source": [
    "preprocess_video('data/s1/bbaf2n.mpg')"
   ]
  }
 ],
 "metadata": {
  "kernelspec": {
   "display_name": "Python 3",
   "language": "python",
   "name": "python3"
  },
  "language_info": {
   "codemirror_mode": {
    "name": "ipython",
    "version": 3
   },
   "file_extension": ".py",
   "mimetype": "text/x-python",
   "name": "python",
   "nbconvert_exporter": "python",
   "pygments_lexer": "ipython3",
   "version": "3.11.7"
  }
 },
 "nbformat": 4,
 "nbformat_minor": 2
}
